{
 "cells": [
  {
   "cell_type": "code",
   "execution_count": 6,
   "id": "a0dd6a38",
   "metadata": {},
   "outputs": [],
   "source": [
    "# Fib recursive solution\n",
    "# 1 1 2 3 5 ..\n",
    "def fib(num):\n",
    "    # base cases\n",
    "    if num==1 or num==2:\n",
    "        return 1\n",
    "    return fib(num-1)+fib(num-2)"
   ]
  },
  {
   "cell_type": "code",
   "execution_count": 14,
   "id": "425b6c2d",
   "metadata": {},
   "outputs": [
    {
     "data": {
      "text/plain": [
       "13"
      ]
     },
     "execution_count": 14,
     "metadata": {},
     "output_type": "execute_result"
    }
   ],
   "source": [
    "fib(7)"
   ]
  },
  {
   "cell_type": "code",
   "execution_count": null,
   "id": "ae97b413",
   "metadata": {},
   "outputs": [
    {
     "data": {
      "text/plain": [
       "102334155"
      ]
     },
     "execution_count": 24,
     "metadata": {},
     "output_type": "execute_result"
    }
   ],
   "source": [
    "fib(40) # slow! as time complexity is O(n^2)"
   ]
  },
  {
   "cell_type": "code",
   "execution_count": 25,
   "id": "daf4c593",
   "metadata": {},
   "outputs": [],
   "source": [
    "# DP = recursion + memoization"
   ]
  },
  {
   "cell_type": "markdown",
   "id": "f34d85be",
   "metadata": {},
   "source": [
    "a naive recursive approach can be inefficient because it might recalculate the same subproblems multiple times. Memoization solves this by storing the results of these subproblem calculations in a cache (e.g., a hash map or array). When the same subproblem is encountered again, the cached result is retrieved instead of recalculating it, significantly improving performance.\n"
   ]
  },
  {
   "cell_type": "code",
   "execution_count": 26,
   "id": "c97c81cc",
   "metadata": {},
   "outputs": [],
   "source": [
    "# will memorize by key-val pair ie hashmap\n",
    "# direction is calculate minimum first, then gradually higher using old calculations of lowers"
   ]
  },
  {
   "cell_type": "code",
   "execution_count": null,
   "id": "574597ce",
   "metadata": {},
   "outputs": [],
   "source": [
    "def fib(n):\n",
    "\n",
    "    memo = {}\n",
    "\n",
    "    for num in range(1,n+1):\n",
    "        if num==1 or num==2:\n",
    "            memo[num]=1\n",
    "        else:    \n",
    "            memo[num]= memo[num-1]+memo[num-2]\n",
    "    \n",
    "    return memo[num]\n"
   ]
  },
  {
   "cell_type": "code",
   "execution_count": null,
   "id": "6fe99602",
   "metadata": {},
   "outputs": [
    {
     "data": {
      "text/plain": [
       "102334155"
      ]
     },
     "execution_count": 30,
     "metadata": {},
     "output_type": "execute_result"
    }
   ],
   "source": [
    "# The above dp method is called bottom-up approach\n",
    "fib(40) "
   ]
  },
  {
   "cell_type": "code",
   "execution_count": 31,
   "id": "1aed50a7",
   "metadata": {},
   "outputs": [],
   "source": [
    "# This method requires careful consideration of the order of solving subproblems to avoid cycles in dependencies"
   ]
  },
  {
   "cell_type": "markdown",
   "id": "9fa65c02",
   "metadata": {},
   "source": [
    "## Coin"
   ]
  },
  {
   "cell_type": "markdown",
   "id": "f9fd92ae",
   "metadata": {},
   "source": [
    "1. ask the final question (to also be the question of subproblems)"
   ]
  },
  {
   "cell_type": "code",
   "execution_count": null,
   "id": "7b9b6e03",
   "metadata": {},
   "outputs": [],
   "source": [
    "# whats the minimum no of coins that can produce the sum m ??\n",
    "# if this is our subproblem-- whats the recursive formulation to do it?\n",
    "\n",
    "# minimum_coins(coins, target_sum) -> no_of_coins"
   ]
  },
  {
   "cell_type": "code",
   "execution_count": null,
   "id": "9702b3ea",
   "metadata": {},
   "outputs": [],
   "source": [
    "coins = {1, 4, 5}\n",
    "target_sum = 13 # =m\n",
    "\n",
    "# for greedy approach \n",
    "# 13 = 5 + 5 + 1 + 1 + 1 ( total 5 coins) BUT\n",
    "# 13 = 5 + 4 + 4\n",
    "# can we use dp to solve this problem ? "
   ]
  },
  {
   "cell_type": "code",
   "execution_count": 22,
   "id": "3c5942cf",
   "metadata": {},
   "outputs": [],
   "source": [
    "def min_ignore_none(a, b):\n",
    "    if a is None:\n",
    "        return b\n",
    "    if b is None:\n",
    "        return a\n",
    "    return min(a, b)"
   ]
  },
  {
   "cell_type": "code",
   "execution_count": 23,
   "id": "516a95f5",
   "metadata": {},
   "outputs": [],
   "source": [
    "def minimum_coins(m, coins): # -> returns  # m = remaining amount to make\n",
    "    if m == 0:\n",
    "        answer = 0\n",
    "    else:\n",
    "        answer = None\n",
    "        for coin in coins:\n",
    "            subproblem = m - coin\n",
    "            if subproblem < 0:\n",
    "                continue\n",
    "            sub_result = minimum_coins(subproblem, coins)\n",
    "            if sub_result is not None:\n",
    "                answer = min_ignore_none(answer, sub_result + 1)\n",
    "    return answer "
   ]
  },
  {
   "cell_type": "code",
   "execution_count": 24,
   "id": "f7ecfe2d",
   "metadata": {},
   "outputs": [
    {
     "name": "stdout",
     "output_type": "stream",
     "text": [
      "3\n"
     ]
    }
   ],
   "source": [
    "print( minimum_coins(11, [1, 2, 5]) )"
   ]
  },
  {
   "cell_type": "code",
   "execution_count": null,
   "id": "d50893f9",
   "metadata": {},
   "outputs": [],
   "source": []
  }
 ],
 "metadata": {
  "kernelspec": {
   "display_name": "base",
   "language": "python",
   "name": "python3"
  },
  "language_info": {
   "codemirror_mode": {
    "name": "ipython",
    "version": 3
   },
   "file_extension": ".py",
   "mimetype": "text/x-python",
   "name": "python",
   "nbconvert_exporter": "python",
   "pygments_lexer": "ipython3",
   "version": "3.12.9"
  }
 },
 "nbformat": 4,
 "nbformat_minor": 5
}
