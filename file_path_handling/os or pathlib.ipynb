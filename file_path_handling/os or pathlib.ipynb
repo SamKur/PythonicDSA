{
 "cells": [
  {
   "cell_type": "code",
   "execution_count": null,
   "id": "98ec9d5e",
   "metadata": {},
   "outputs": [],
   "source": [
    "# Difference btwn win and linux\n",
    "\n",
    "# | Concern             | Linux/macOS         | Windows                     |\n",
    "# | ------------------- | ------------------- | --------------------------- |\n",
    "# | Separator           | `/`                 | `\\`  (use \\\\ in code)       |\n",
    "# | Root Path           | `/`                 | `C:\\`, `D:\\`                |\n",
    "# | Case Sensitivity    | Yes                 | No                          |\n",
    "# | Permissions         | POSIX (`rwx`)       | ACLs                        |\n",
    "# | Symlinks            | Default OK          | Admin/dev mode needed       |\n",
    "# | Path Length Limit   | \\~4096              | 260 (older), 32K with tweak |\n",
    "# | Filename Characters | Mostly unrestricted | Many reserved chars         |\n",
    "# | Hidden Files        | Start with `.`      | Set hidden attribute        |"
   ]
  },
  {
   "cell_type": "markdown",
   "id": "fb98ab3c",
   "metadata": {},
   "source": [
    "### use `os` module for all except path handling"
   ]
  },
  {
   "cell_type": "code",
   "execution_count": 14,
   "id": "ecf140f8",
   "metadata": {},
   "outputs": [],
   "source": [
    "import os"
   ]
  },
  {
   "cell_type": "code",
   "execution_count": 15,
   "id": "7ac124d0",
   "metadata": {},
   "outputs": [
    {
     "name": "stdout",
     "output_type": "stream",
     "text": [
      "sample_path\\file.txt\n"
     ]
    }
   ],
   "source": [
    "path = os.path.join(\"sample_path\", \"file.txt\")   # str\n",
    "print(path)"
   ]
  },
  {
   "cell_type": "code",
   "execution_count": 16,
   "id": "92d02738",
   "metadata": {},
   "outputs": [
    {
     "name": "stdout",
     "output_type": "stream",
     "text": [
      "d:\\Documents\\NewCodePractice\\PythonicDSA\\file_path_handling\\sample_path\\file.txt\n",
      "file.txt\n",
      "('sample_path\\\\file', '.txt')\n"
     ]
    }
   ],
   "source": [
    "print(  os.path.abspath(path)  )\n",
    "print(  os.path.basename(path) )\n",
    "print(  os.path.splitext(path) ) # (name, ext)"
   ]
  },
  {
   "cell_type": "code",
   "execution_count": 17,
   "id": "3a0c8ac3",
   "metadata": {},
   "outputs": [
    {
     "ename": "FileNotFoundError",
     "evalue": "[WinError 3] The system cannot find the path specified: 'sample_path\\\\file.txt'",
     "output_type": "error",
     "traceback": [
      "\u001b[1;31m---------------------------------------------------------------------------\u001b[0m",
      "\u001b[1;31mFileNotFoundError\u001b[0m                         Traceback (most recent call last)",
      "Cell \u001b[1;32mIn[17], line 1\u001b[0m\n\u001b[1;32m----> 1\u001b[0m os\u001b[38;5;241m.\u001b[39mlistdir(path)\n",
      "\u001b[1;31mFileNotFoundError\u001b[0m: [WinError 3] The system cannot find the path specified: 'sample_path\\\\file.txt'"
     ]
    }
   ],
   "source": [
    "os.listdir(path)"
   ]
  },
  {
   "cell_type": "code",
   "execution_count": null,
   "id": "1950b7fe",
   "metadata": {},
   "outputs": [],
   "source": [
    "os.makedirs(path, exist_ok=True)    # no op, creates folder only"
   ]
  },
  {
   "cell_type": "code",
   "execution_count": 19,
   "id": "369e22ea",
   "metadata": {},
   "outputs": [
    {
     "ename": "PermissionError",
     "evalue": "[WinError 5] Access is denied: 'sample_path\\\\file.txt'",
     "output_type": "error",
     "traceback": [
      "\u001b[1;31m---------------------------------------------------------------------------\u001b[0m",
      "\u001b[1;31mPermissionError\u001b[0m                           Traceback (most recent call last)",
      "Cell \u001b[1;32mIn[19], line 1\u001b[0m\n\u001b[1;32m----> 1\u001b[0m os\u001b[38;5;241m.\u001b[39mremove(path)\n",
      "\u001b[1;31mPermissionError\u001b[0m: [WinError 5] Access is denied: 'sample_path\\\\file.txt'"
     ]
    }
   ],
   "source": [
    "os.remove(path)       # delete file - PermissionError"
   ]
  },
  {
   "cell_type": "code",
   "execution_count": null,
   "id": "c9b7c5a7",
   "metadata": {},
   "outputs": [],
   "source": [
    "os.rmdir(path)        # delete empty dir"
   ]
  },
  {
   "cell_type": "code",
   "execution_count": 21,
   "id": "8dbf0766",
   "metadata": {},
   "outputs": [
    {
     "ename": "FileNotFoundError",
     "evalue": "[WinError 2] The system cannot find the file specified: 'sample_path\\\\file.txt'",
     "output_type": "error",
     "traceback": [
      "\u001b[1;31m---------------------------------------------------------------------------\u001b[0m",
      "\u001b[1;31mFileNotFoundError\u001b[0m                         Traceback (most recent call last)",
      "Cell \u001b[1;32mIn[21], line 2\u001b[0m\n\u001b[0;32m      1\u001b[0m \u001b[38;5;28;01mimport\u001b[39;00m\u001b[38;5;250m \u001b[39m\u001b[38;5;21;01mshutil\u001b[39;00m\n\u001b[1;32m----> 2\u001b[0m shutil\u001b[38;5;241m.\u001b[39mrmtree(path)\n",
      "File \u001b[1;32mc:\\Users\\sk\\anaconda3\\Lib\\shutil.py:780\u001b[0m, in \u001b[0;36mrmtree\u001b[1;34m(path, ignore_errors, onerror, onexc, dir_fd)\u001b[0m\n\u001b[0;32m    778\u001b[0m     st \u001b[38;5;241m=\u001b[39m os\u001b[38;5;241m.\u001b[39mlstat(path)\n\u001b[0;32m    779\u001b[0m \u001b[38;5;28;01mexcept\u001b[39;00m \u001b[38;5;167;01mOSError\u001b[39;00m \u001b[38;5;28;01mas\u001b[39;00m err:\n\u001b[1;32m--> 780\u001b[0m     onexc(os\u001b[38;5;241m.\u001b[39mlstat, path, err)\n\u001b[0;32m    781\u001b[0m     \u001b[38;5;28;01mreturn\u001b[39;00m\n\u001b[0;32m    782\u001b[0m \u001b[38;5;28;01mtry\u001b[39;00m:\n",
      "File \u001b[1;32mc:\\Users\\sk\\anaconda3\\Lib\\shutil.py:778\u001b[0m, in \u001b[0;36mrmtree\u001b[1;34m(path, ignore_errors, onerror, onexc, dir_fd)\u001b[0m\n\u001b[0;32m    776\u001b[0m     \u001b[38;5;28;01mraise\u001b[39;00m \u001b[38;5;167;01mNotImplementedError\u001b[39;00m(\u001b[38;5;124m\"\u001b[39m\u001b[38;5;124mdir_fd unavailable on this platform\u001b[39m\u001b[38;5;124m\"\u001b[39m)\n\u001b[0;32m    777\u001b[0m \u001b[38;5;28;01mtry\u001b[39;00m:\n\u001b[1;32m--> 778\u001b[0m     st \u001b[38;5;241m=\u001b[39m os\u001b[38;5;241m.\u001b[39mlstat(path)\n\u001b[0;32m    779\u001b[0m \u001b[38;5;28;01mexcept\u001b[39;00m \u001b[38;5;167;01mOSError\u001b[39;00m \u001b[38;5;28;01mas\u001b[39;00m err:\n\u001b[0;32m    780\u001b[0m     onexc(os\u001b[38;5;241m.\u001b[39mlstat, path, err)\n",
      "\u001b[1;31mFileNotFoundError\u001b[0m: [WinError 2] The system cannot find the file specified: 'sample_path\\\\file.txt'"
     ]
    }
   ],
   "source": [
    "import shutil\n",
    "shutil.rmtree(path)   # delete non-empty dir"
   ]
  },
  {
   "cell_type": "code",
   "execution_count": 23,
   "id": "55b7bfbb",
   "metadata": {},
   "outputs": [
    {
     "name": "stdout",
     "output_type": "stream",
     "text": [
      "False\n",
      "False\n",
      "False\n"
     ]
    }
   ],
   "source": [
    "print(  os.path.exists(path)    )\n",
    "print(  os.path.isfile(path)    )\n",
    "print(  os.path.isdir(path)     )"
   ]
  },
  {
   "cell_type": "code",
   "execution_count": 22,
   "id": "8a4988c9",
   "metadata": {},
   "outputs": [
    {
     "ename": "FileNotFoundError",
     "evalue": "[WinError 2] The system cannot find the file specified: 'sample_path\\\\file.txt'",
     "output_type": "error",
     "traceback": [
      "\u001b[1;31m---------------------------------------------------------------------------\u001b[0m",
      "\u001b[1;31mFileNotFoundError\u001b[0m                         Traceback (most recent call last)",
      "Cell \u001b[1;32mIn[22], line 1\u001b[0m\n\u001b[1;32m----> 1\u001b[0m os\u001b[38;5;241m.\u001b[39mchmod(path, \u001b[38;5;241m0o755\u001b[39m)\n",
      "\u001b[1;31mFileNotFoundError\u001b[0m: [WinError 2] The system cannot find the file specified: 'sample_path\\\\file.txt'"
     ]
    }
   ],
   "source": [
    "os.chmod(path, 0o755)"
   ]
  },
  {
   "cell_type": "code",
   "execution_count": null,
   "id": "2bd2acb4",
   "metadata": {},
   "outputs": [
    {
     "data": {
      "text/plain": [
       "(4056, 8)"
      ]
     },
     "execution_count": 24,
     "metadata": {},
     "output_type": "execute_result"
    }
   ],
   "source": [
    "os.getpid(), os.cpu_count()\n",
    "# os.environ            # env vars as dict\n",
    "# os.environ[\"HOME\"]    # not working in windows"
   ]
  },
  {
   "cell_type": "markdown",
   "id": "0d21794c",
   "metadata": {},
   "source": [
    "### pathlib (seamless cross-platform path handling)"
   ]
  },
  {
   "cell_type": "code",
   "execution_count": 5,
   "id": "bb57ae82",
   "metadata": {},
   "outputs": [],
   "source": [
    "from pathlib import Path"
   ]
  },
  {
   "cell_type": "code",
   "execution_count": null,
   "id": "246426d1",
   "metadata": {},
   "outputs": [
    {
     "name": "stdout",
     "output_type": "stream",
     "text": [
      "C:\\Users\\sk\n",
      "d:\\Documents\\NewCodePractice\\PythonicDSA\\file_path_handling\n"
     ]
    },
    {
     "data": {
      "text/plain": [
       "WindowsPath('C:/Users/sk')"
      ]
     },
     "execution_count": 7,
     "metadata": {},
     "output_type": "execute_result"
    }
   ],
   "source": [
    "print(Path.home())\n",
    "print(Path.cwd())\n",
    "dir = Path.home()   # userpath\n",
    "Path(dir)"
   ]
  },
  {
   "cell_type": "code",
   "execution_count": 3,
   "id": "b95c4dd6",
   "metadata": {},
   "outputs": [
    {
     "data": {
      "text/plain": [
       "WindowsPath('sample_path/file2.txt')"
      ]
     },
     "execution_count": 3,
     "metadata": {},
     "output_type": "execute_result"
    }
   ],
   "source": [
    "p = Path(\"sample_path\") / \"file2.txt\"  \n",
    "p"
   ]
  },
  {
   "cell_type": "code",
   "execution_count": 3,
   "id": "92841635",
   "metadata": {},
   "outputs": [
    {
     "name": "stdout",
     "output_type": "stream",
     "text": [
      "D:\\Documents\\NewCodePractice\\PythonicDSA\\file_path_handling\\sample_path\\file2.txt\n",
      "file2.txt file2 .txt\n"
     ]
    }
   ],
   "source": [
    "print(  p.resolve()             )  # absolute path\n",
    "print(  p.name, p.stem, p.suffix)  # 'file.txt', 'file', '.txt'"
   ]
  },
  {
   "cell_type": "code",
   "execution_count": 4,
   "id": "7eb262fa",
   "metadata": {},
   "outputs": [
    {
     "data": {
      "text/plain": [
       "False"
      ]
     },
     "execution_count": 4,
     "metadata": {},
     "output_type": "execute_result"
    }
   ],
   "source": [
    "p.exists()"
   ]
  },
  {
   "cell_type": "code",
   "execution_count": 5,
   "id": "7b0be680",
   "metadata": {},
   "outputs": [
    {
     "data": {
      "text/plain": [
       "(False, False)"
      ]
     },
     "execution_count": 5,
     "metadata": {},
     "output_type": "execute_result"
    }
   ],
   "source": [
    "p.is_file(), p.is_dir() # not exist then False"
   ]
  },
  {
   "cell_type": "code",
   "execution_count": 6,
   "id": "a9798614",
   "metadata": {},
   "outputs": [],
   "source": [
    "# p.mkdir(parents=True, exist_ok=True)  # this will make folder only\n",
    "\n",
    "# instead do this\n",
    "p.parent.mkdir(parents=True, exist_ok=True)\n",
    "# Now create the file\n",
    "p.touch(exist_ok=True)"
   ]
  },
  {
   "cell_type": "code",
   "execution_count": 7,
   "id": "78647386",
   "metadata": {},
   "outputs": [
    {
     "name": "stdout",
     "output_type": "stream",
     "text": [
      "Hello world\n"
     ]
    }
   ],
   "source": [
    "p.write_text(\"Hello world\")  # also creates file (not folders) if doesn't exist\n",
    "text = p.read_text()\n",
    "print(text)"
   ]
  },
  {
   "cell_type": "code",
   "execution_count": 8,
   "id": "44c008c9",
   "metadata": {},
   "outputs": [],
   "source": [
    "p.unlink()     # delete file"
   ]
  },
  {
   "cell_type": "code",
   "execution_count": 10,
   "id": "3d565409",
   "metadata": {},
   "outputs": [],
   "source": [
    "p.parent.rmdir()      # delete dir"
   ]
  },
  {
   "cell_type": "code",
   "execution_count": null,
   "id": "c7ab23a0",
   "metadata": {},
   "outputs": [
    {
     "data": {
      "text/plain": [
       "False"
      ]
     },
     "execution_count": 11,
     "metadata": {},
     "output_type": "execute_result"
    }
   ],
   "source": [
    "p.glob(\"*.txt\")     # Lists all .txt files in the directory p   -> <generator object>\n",
    "p.rglob(\"**/*.log\") # Lists all .log files recursively under p and all subdirectories.  -> <generator object>\n",
    "p.match(\"scripts/*.py\")     # (Filtering) compares against the entire path string   -> Boolean"
   ]
  },
  {
   "cell_type": "code",
   "execution_count": 12,
   "id": "05f2cdfd",
   "metadata": {},
   "outputs": [
    {
     "name": "stdout",
     "output_type": "stream",
     "text": [
      "sample_path\\file2.txt\n"
     ]
    },
    {
     "data": {
      "text/plain": [
       "WindowsPath('string')"
      ]
     },
     "execution_count": 12,
     "metadata": {},
     "output_type": "execute_result"
    }
   ],
   "source": [
    "p_st = str(p)        # convert to string if needed\n",
    "print(p_st)\n",
    "Path(\"string\")  # from string path"
   ]
  },
  {
   "cell_type": "code",
   "execution_count": 13,
   "id": "39a4927f",
   "metadata": {},
   "outputs": [
    {
     "data": {
      "text/plain": [
       "WindowsPath('sample_path')"
      ]
     },
     "execution_count": 13,
     "metadata": {},
     "output_type": "execute_result"
    }
   ],
   "source": [
    "p.parent"
   ]
  }
 ],
 "metadata": {
  "kernelspec": {
   "display_name": "base",
   "language": "python",
   "name": "python3"
  },
  "language_info": {
   "codemirror_mode": {
    "name": "ipython",
    "version": 3
   },
   "file_extension": ".py",
   "mimetype": "text/x-python",
   "name": "python",
   "nbconvert_exporter": "python",
   "pygments_lexer": "ipython3",
   "version": "3.13.5"
  }
 },
 "nbformat": 4,
 "nbformat_minor": 5
}
