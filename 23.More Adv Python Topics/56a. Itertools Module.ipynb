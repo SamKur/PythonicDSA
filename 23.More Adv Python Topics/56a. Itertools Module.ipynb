{
 "cells": [
  {
   "cell_type": "code",
   "execution_count": 1,
   "id": "1b76ab64",
   "metadata": {},
   "outputs": [],
   "source": [
    "from itertools import groupby"
   ]
  },
  {
   "cell_type": "code",
   "execution_count": 2,
   "id": "eab71296",
   "metadata": {},
   "outputs": [
    {
     "name": "stdout",
     "output_type": "stream",
     "text": [
      "1 [1, 1]\n",
      "2 [2, 2, 2]\n",
      "3 [3]\n",
      "1 [1, 1]\n"
     ]
    }
   ],
   "source": [
    "data = [1, 1, 2, 2, 2, 3, 1, 1]\n",
    "\n",
    "for key, group in groupby(data):\n",
    "    print(key, list(group))"
   ]
  },
  {
   "cell_type": "code",
   "execution_count": 3,
   "id": "f343aa36",
   "metadata": {},
   "outputs": [
    {
     "name": "stdout",
     "output_type": "stream",
     "text": [
      "a ['apple', 'ant']\n",
      "b ['banana', 'bat']\n",
      "c ['car']\n",
      "a ['abs']\n"
     ]
    }
   ],
   "source": [
    "# groupby with key func\n",
    "# group by first alphabets\n",
    "\n",
    "words = ['apple', 'ant', 'banana', 'bat', 'car', 'abs']\n",
    "# words.sort(key=lambda x: x[0])  # with sorting first, abs will not be grouped here\n",
    "\n",
    "for key, group in groupby(words, key=lambda x: x[0]):\n",
    "    print(key, list(group))\n"
   ]
  },
  {
   "cell_type": "code",
   "execution_count": 4,
   "id": "944a551f",
   "metadata": {},
   "outputs": [
    {
     "data": {
      "text/plain": [
       "[(1, 'a'), (1, 'b'), (2, 'a'), (2, 'b')]"
      ]
     },
     "execution_count": 4,
     "metadata": {},
     "output_type": "execute_result"
    }
   ],
   "source": [
    "# Cartesian product (like nested loops)\n",
    "from itertools import product\n",
    "list(product([1, 2], ['a', 'b']))\n",
    "\n",
    "# Use case: Generating all combinations of parameters (grid search, configs, etc.)"
   ]
  },
  {
   "cell_type": "code",
   "execution_count": null,
   "id": "607c0b5e",
   "metadata": {},
   "outputs": [
    {
     "data": {
      "text/plain": [
       "[(1, 2), (1, 3), (2, 1), (2, 3), (3, 1), (3, 2)]"
      ]
     },
     "execution_count": 5,
     "metadata": {},
     "output_type": "execute_result"
    }
   ],
   "source": [
    "# All possible ordered arrangements (no repetition).\n",
    "from itertools import permutations\n",
    "list(permutations([1, 2, 3], r=2))   # r-length permutations of elements\n",
    "\n",
    "# Use case: passwords, routes"
   ]
  },
  {
   "cell_type": "code",
   "execution_count": 6,
   "id": "c8898f7c",
   "metadata": {},
   "outputs": [
    {
     "name": "stdout",
     "output_type": "stream",
     "text": [
      "[(1, 2), (1, 3), (2, 3)]\n",
      "[(1, 1), (1, 2), (1, 3), (2, 2), (2, 3), (3, 3)]\n"
     ]
    }
   ],
   "source": [
    "# All possible unordered pairs.\n",
    "from itertools import combinations, combinations_with_replacement\n",
    "print(  list(combinations([1, 2, 3], r=2))  )\n",
    "print(  list(combinations_with_replacement([1, 2, 3], r=2))  )\n",
    "\n",
    "# Use case: Feature selection, pairing items"
   ]
  },
  {
   "cell_type": "code",
   "execution_count": 7,
   "id": "f447656b",
   "metadata": {},
   "outputs": [
    {
     "data": {
      "text/plain": [
       "[1, 2, 'a', 'b']"
      ]
     },
     "execution_count": 7,
     "metadata": {},
     "output_type": "execute_result"
    }
   ],
   "source": [
    "# Flatten multiple iterables into one.\n",
    "from itertools import chain\n",
    "list(chain([1, 2], ['a', 'b']))\n",
    "\n",
    "# Use case: Flattening lists or sequences."
   ]
  },
  {
   "cell_type": "code",
   "execution_count": 8,
   "id": "c49edc49",
   "metadata": {},
   "outputs": [
    {
     "name": "stdout",
     "output_type": "stream",
     "text": [
      "[1, 4]\n",
      "[2, -1]\n"
     ]
    }
   ],
   "source": [
    "# Conditional slicing, once condition fails -> slice\n",
    "from itertools import takewhile, dropwhile\n",
    "print(  list(takewhile(lambda x: x < 5, [1, 4, 6, 2]))      )   # predicate, itrprint\n",
    "print(  list(dropwhile(lambda x: x > 2, [3, 4, 6, 2, -1]))  )\n",
    "\n",
    "# Use case: Efficient filtering until/beyond a condition."
   ]
  },
  {
   "cell_type": "code",
   "execution_count": null,
   "id": "97cd5ea3",
   "metadata": {},
   "outputs": [
    {
     "data": {
      "text/plain": [
       "([1, 2, 3], [1, 2, 3])"
      ]
     },
     "execution_count": 9,
     "metadata": {},
     "output_type": "execute_result"
    }
   ],
   "source": [
    "# Create independent copies of the same iterator.\n",
    "from itertools import tee\n",
    "a, b = tee(iter([1, 2, 3]))\n",
    "list(a), list(b)            # diff id\n",
    "\n",
    "# Use case: Reusing a generator without re-consuming."
   ]
  },
  {
   "cell_type": "code",
   "execution_count": 12,
   "id": "284bcf33",
   "metadata": {},
   "outputs": [
    {
     "data": {
      "text/plain": [
       "[(1, 'a'), (2, 'X'), (8, 'X')]"
      ]
     },
     "execution_count": 12,
     "metadata": {},
     "output_type": "execute_result"
    }
   ],
   "source": [
    "# zip - in steroids\n",
    "from itertools import zip_longest\n",
    "list(zip_longest([1, 2, 8], ['a'], fillvalue='X'))\n",
    "\n",
    "# Use case: Merging uneven data streams."
   ]
  },
  {
   "cell_type": "code",
   "execution_count": 13,
   "id": "1994246d",
   "metadata": {},
   "outputs": [
    {
     "name": "stdout",
     "output_type": "stream",
     "text": [
      "10\n",
      "11\n",
      "12\n",
      "13\n",
      "14\n",
      "15\n",
      "16\n",
      "17\n",
      "18\n",
      "19\n"
     ]
    }
   ],
   "source": [
    "# tertools.islice(iterable, start, stop[, step])\n",
    "# Slicing generators/infinite iterables\n",
    "\n",
    "from itertools import islice\n",
    "\n",
    "data = range(1000)  # large or infinite\n",
    "\n",
    "for i in islice(data, 10, 20):\n",
    "    print(i)\n"
   ]
  },
  {
   "cell_type": "code",
   "execution_count": null,
   "id": "0a7808e5",
   "metadata": {},
   "outputs": [
    {
     "data": {
      "text/plain": [
       "[10, 12, 14, 16, 18]"
      ]
     },
     "execution_count": 14,
     "metadata": {},
     "output_type": "execute_result"
    }
   ],
   "source": [
    "from itertools import count, islice\n",
    "# list(count(10, 2))        # 10, 12, 14,... infinite\n",
    "\n",
    "list(islice(count(10, 2), 5))\n",
    "\n",
    "# Use case: Auto-incrementing IDs, streaming simulations."
   ]
  },
  {
   "cell_type": "code",
   "execution_count": null,
   "id": "d7e90844",
   "metadata": {},
   "outputs": [],
   "source": [
    "from itertools import cycle, islice\n",
    "list(islice(cycle('AB'), 5))\n",
    "\n",
    "# Use case: Repeating patterns, round-robin scheduling in OS."
   ]
  },
  {
   "cell_type": "code",
   "execution_count": null,
   "id": "64f31104",
   "metadata": {},
   "outputs": [],
   "source": [
    "print(\"FYI\")\n",
    "\n",
    "list(range(5))\n",
    "# [range(5)]\n",
    "# *range(5)   # error\n",
    "# list(range(stop=6)) # error, no kwargs as before /"
   ]
  }
 ],
 "metadata": {
  "kernelspec": {
   "display_name": "base",
   "language": "python",
   "name": "python3"
  },
  "language_info": {
   "codemirror_mode": {
    "name": "ipython",
    "version": 3
   },
   "file_extension": ".py",
   "mimetype": "text/x-python",
   "name": "python",
   "nbconvert_exporter": "python",
   "pygments_lexer": "ipython3",
   "version": "3.13.5"
  }
 },
 "nbformat": 4,
 "nbformat_minor": 5
}
