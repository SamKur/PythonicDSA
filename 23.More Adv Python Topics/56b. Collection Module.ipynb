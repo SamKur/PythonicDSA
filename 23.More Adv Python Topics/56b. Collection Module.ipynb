{
 "cells": [
  {
   "cell_type": "code",
   "execution_count": null,
   "id": "c3049d74",
   "metadata": {},
   "outputs": [
    {
     "data": {
      "text/plain": [
       "Counter({'apple': 2, 'banana': 2, 'orange': 1})"
      ]
     },
     "execution_count": 1,
     "metadata": {},
     "output_type": "execute_result"
    }
   ],
   "source": [
    "from collections import Counter\n",
    "\n",
    "words = ['apple', 'banana', 'apple', 'orange', 'banana']\n",
    "Counter(words)\n",
    "# → Counter({'apple': 2, 'banana': 2, 'orange': 1})\n",
    "\n",
    "# Use case: Word/char frequency, Mode calculation"
   ]
  },
  {
   "cell_type": "code",
   "execution_count": null,
   "id": "4f4a4491",
   "metadata": {},
   "outputs": [],
   "source": [
    "from collections import defaultdict\n",
    "\n",
    "dd = defaultdict(int)\n",
    "dd['a'] += 1\n",
    "# dd = {'a': 1}\n",
    "\n",
    "# Use case: Avoiding KeyError in counting, Grouping item by key"
   ]
  },
  {
   "cell_type": "code",
   "execution_count": null,
   "id": "b878412c",
   "metadata": {},
   "outputs": [
    {
     "name": "stdout",
     "output_type": "stream",
     "text": [
      "Point(x=1, y=2)\n"
     ]
    }
   ],
   "source": [
    "from collections import namedtuple\n",
    "\n",
    "Point = namedtuple('Point', ['x', 'y'])\n",
    "p = Point(1, 2)\n",
    "p.x  # 1\n",
    "p.y  # 2\n",
    "print(p)\n",
    "\n",
    "# Lightweight class alternatives"
   ]
  },
  {
   "cell_type": "code",
   "execution_count": 6,
   "id": "a6e01273",
   "metadata": {},
   "outputs": [
    {
     "name": "stdout",
     "output_type": "stream",
     "text": [
      "deque([0, 1, 2])\n"
     ]
    }
   ],
   "source": [
    "# double ended queue\n",
    "from collections import deque\n",
    "\n",
    "dq = deque([1, 2, 3])\n",
    "dq.appendleft(0)\n",
    "dq.pop() # 3\n",
    "print(dq)\n",
    "\n",
    "# Sliding window problems, Queues and stacks, Efficient FIFO/LIFO data structure"
   ]
  },
  {
   "cell_type": "code",
   "execution_count": null,
   "id": "ce0a36f6",
   "metadata": {},
   "outputs": [
    {
     "name": "stdout",
     "output_type": "stream",
     "text": [
      "ChainMap({'a': 1}, {'b': 2, 'a': 3})\n"
     ]
    }
   ],
   "source": [
    "from collections import ChainMap\n",
    "\n",
    "dict1 = {'a': 1}\n",
    "dict2 = {'b': 2, 'a': 3}\n",
    "cm = ChainMap(dict1, dict2) # Combines multiple dicts, reads in ORDER.\n",
    "cm['a']  # → 1\n",
    "cm['b']  # → 2 \n",
    "print(cm)\n",
    "\n",
    "# Combining scopes (e.g. local + global), Override Config"
   ]
  },
  {
   "cell_type": "code",
   "execution_count": null,
   "id": "1b2b1dda",
   "metadata": {},
   "outputs": [],
   "source": []
  }
 ],
 "metadata": {
  "kernelspec": {
   "display_name": "base",
   "language": "python",
   "name": "python3"
  },
  "language_info": {
   "codemirror_mode": {
    "name": "ipython",
    "version": 3
   },
   "file_extension": ".py",
   "mimetype": "text/x-python",
   "name": "python",
   "nbconvert_exporter": "python",
   "pygments_lexer": "ipython3",
   "version": "3.13.5"
  }
 },
 "nbformat": 4,
 "nbformat_minor": 5
}
