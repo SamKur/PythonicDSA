{
 "cells": [
  {
   "cell_type": "markdown",
   "id": "be105f94",
   "metadata": {},
   "source": [
    "### method overloading aka compile-time polymorphism\n",
    "\n",
    "since python is not compiled, it does not support method overloading in the same way as languages like C++ or Java."
   ]
  },
  {
   "cell_type": "code",
   "execution_count": null,
   "id": "e6c270a1",
   "metadata": {},
   "outputs": [
    {
     "name": "stdout",
     "output_type": "stream",
     "text": [
      "100\n"
     ]
    }
   ],
   "source": [
    "def product(a, b):\n",
    "    p = a * b\n",
    "    print(p)\n",
    "\n",
    "def product(a, b, c):   # with same name only last signature is valid\n",
    "    p = a * b*c\n",
    "    print(p)\n",
    "\n",
    "# product(4,5)    # Will throw error\n",
    "product(4, 5, 5)"
   ]
  },
  {
   "cell_type": "markdown",
   "id": "59c0bd8a",
   "metadata": {},
   "source": [
    "However, you can achieve similar behavior using default arguments or variable-length argument lists."
   ]
  },
  {
   "cell_type": "code",
   "execution_count": 2,
   "id": "52bd6524",
   "metadata": {},
   "outputs": [
    {
     "name": "stdout",
     "output_type": "stream",
     "text": [
      "5\n",
      "2\n"
     ]
    }
   ],
   "source": [
    "def add(a=None, b=None):\n",
    "    if a is not None and b is None:\n",
    "        print(a)\n",
    "    else:\n",
    "        print(a + b)\n",
    "\n",
    "add(2, 3)\n",
    "add(2)"
   ]
  },
  {
   "cell_type": "code",
   "execution_count": 3,
   "id": "dd3a3201",
   "metadata": {},
   "outputs": [
    {
     "name": "stdout",
     "output_type": "stream",
     "text": [
      "11\n",
      "Hi Geeks\n"
     ]
    }
   ],
   "source": [
    "def add(datatype, *args):\n",
    "    if datatype == 'int':\n",
    "        res = 0\n",
    "    elif datatype == 'str':\n",
    "        res = ''\n",
    "    \n",
    "    for item in args:\n",
    "        res += item\n",
    "\n",
    "    print(res)\n",
    "\n",
    "\n",
    "add('int', 5, 6)\n",
    "add('str', 'Hi ', 'Geeks')"
   ]
  },
  {
   "cell_type": "markdown",
   "id": "66464d22",
   "metadata": {},
   "source": [
    "#### multipledispatch - a library that allows you to define multiple methods with the same name but different argument types."
   ]
  },
  {
   "cell_type": "code",
   "execution_count": null,
   "id": "cb5f2e0f",
   "metadata": {},
   "outputs": [
    {
     "name": "stdout",
     "output_type": "stream",
     "text": [
      "6\n",
      "12\n",
      "14.96\n",
      "susususususu\n"
     ]
    }
   ],
   "source": [
    "from multipledispatch import dispatch\n",
    "\n",
    "@dispatch(int, int)\n",
    "def product(first, second):\n",
    "    result = first * second\n",
    "    print(result)\n",
    "\n",
    "@dispatch(int, int, int)\n",
    "def product(first, second, third):\n",
    "    result = first * second * third\n",
    "    print(result)\n",
    "\n",
    "@dispatch(str, int, int)\n",
    "def product(first, second, third):\n",
    "    result = first * second * third\n",
    "    print(result)\n",
    "\n",
    "@dispatch(float, float, int)\n",
    "def product(first, second, third):\n",
    "    result = first * second * third\n",
    "    print(result)\n",
    "\n",
    "product(2, 3)\n",
    "product(2, 3, 2)\n",
    "product('su', 3, 2)\n",
    "product(2.2, 3.4, 2)"
   ]
  },
  {
   "cell_type": "markdown",
   "id": "0c72c947",
   "metadata": {},
   "source": [
    "#### use the `@overload` decorator from the `typing` module to define multiple signatures for a function."
   ]
  },
  {
   "cell_type": "code",
   "execution_count": 16,
   "id": "2d2a9fa4",
   "metadata": {},
   "outputs": [],
   "source": [
    "from typing import overload, Union\n",
    "\n",
    "# @overload # these are for type hints only\n",
    "# def process(data: int) -> str: ...\n",
    "# @overload\n",
    "# def process(data: str) -> int: ...\n",
    "\n",
    "# below is must\n",
    "def process(data: Union[int, str]) -> Union[str, int]:\n",
    "    if isinstance(data, int):\n",
    "        return str(data)  # int → str\n",
    "    elif isinstance(data, str):\n",
    "        return len(data)  # str → int\n",
    "    else:\n",
    "        raise TypeError(\"Invalid type\")\n"
   ]
  },
  {
   "cell_type": "code",
   "execution_count": 15,
   "id": "c9b066e7",
   "metadata": {},
   "outputs": [
    {
     "name": "stdout",
     "output_type": "stream",
     "text": [
      "7797\n",
      "8\n"
     ]
    }
   ],
   "source": [
    "print(process(7797))\n",
    "print(process('susamayy'))"
   ]
  },
  {
   "cell_type": "code",
   "execution_count": null,
   "id": "5378110b",
   "metadata": {},
   "outputs": [],
   "source": []
  }
 ],
 "metadata": {
  "kernelspec": {
   "display_name": "base",
   "language": "python",
   "name": "python3"
  },
  "language_info": {
   "codemirror_mode": {
    "name": "ipython",
    "version": 3
   },
   "file_extension": ".py",
   "mimetype": "text/x-python",
   "name": "python",
   "nbconvert_exporter": "python",
   "pygments_lexer": "ipython3",
   "version": "3.13.5"
  }
 },
 "nbformat": 4,
 "nbformat_minor": 5
}
